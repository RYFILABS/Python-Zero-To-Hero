{
 "cells": [
  {
   "cell_type": "code",
   "execution_count": 1,
   "id": "a1084035-e390-4b2b-b714-234389662694",
   "metadata": {},
   "outputs": [
    {
     "data": {
      "text/plain": [
       "0"
      ]
     },
     "execution_count": 1,
     "metadata": {},
     "output_type": "execute_result"
    }
   ],
   "source": [
    "2 % 2"
   ]
  },
  {
   "cell_type": "code",
   "execution_count": 2,
   "id": "8fe40351-651f-4dfd-b1dd-fd603379ddf8",
   "metadata": {},
   "outputs": [
    {
     "data": {
      "text/plain": [
       "1"
      ]
     },
     "execution_count": 2,
     "metadata": {},
     "output_type": "execute_result"
    }
   ],
   "source": [
    "3 % 2"
   ]
  },
  {
   "cell_type": "code",
   "execution_count": 3,
   "id": "aa026d3e-bd86-4335-9cd9-3e58a709c89c",
   "metadata": {},
   "outputs": [
    {
     "data": {
      "text/plain": [
       "1"
      ]
     },
     "execution_count": 3,
     "metadata": {},
     "output_type": "execute_result"
    }
   ],
   "source": [
    "41 % 40"
   ]
  },
  {
   "cell_type": "code",
   "execution_count": 4,
   "id": "4fd756b7-b847-4480-b4d9-2688a2333417",
   "metadata": {},
   "outputs": [
    {
     "data": {
      "text/plain": [
       "0"
      ]
     },
     "execution_count": 4,
     "metadata": {},
     "output_type": "execute_result"
    }
   ],
   "source": [
    "20 % 2"
   ]
  },
  {
   "cell_type": "code",
   "execution_count": 5,
   "id": "07394adb-61b6-43dd-8466-76407c1542d8",
   "metadata": {},
   "outputs": [
    {
     "data": {
      "text/plain": [
       "True"
      ]
     },
     "execution_count": 5,
     "metadata": {},
     "output_type": "execute_result"
    }
   ],
   "source": [
    "20 % 2 == 0"
   ]
  },
  {
   "cell_type": "code",
   "execution_count": 6,
   "id": "b5fce5b9-2a16-4f1a-a1fa-9482880cca8c",
   "metadata": {},
   "outputs": [
    {
     "data": {
      "text/plain": [
       "False"
      ]
     },
     "execution_count": 6,
     "metadata": {},
     "output_type": "execute_result"
    }
   ],
   "source": [
    "21 % 2 == 0"
   ]
  },
  {
   "cell_type": "code",
   "execution_count": 7,
   "id": "b0b08d39-fc87-4bb5-b247-665f23f2ac57",
   "metadata": {},
   "outputs": [],
   "source": [
    "def even_check(number):\n",
    "    result = number % 2 == 0\n",
    "    return result"
   ]
  },
  {
   "cell_type": "code",
   "execution_count": 8,
   "id": "42e75268-680b-4672-aab4-250879e6ca0a",
   "metadata": {},
   "outputs": [
    {
     "data": {
      "text/plain": [
       "True"
      ]
     },
     "execution_count": 8,
     "metadata": {},
     "output_type": "execute_result"
    }
   ],
   "source": [
    "even_check(20)"
   ]
  },
  {
   "cell_type": "code",
   "execution_count": 9,
   "id": "43fecd16-be36-4bfd-983a-d873692a490a",
   "metadata": {},
   "outputs": [
    {
     "data": {
      "text/plain": [
       "False"
      ]
     },
     "execution_count": 9,
     "metadata": {},
     "output_type": "execute_result"
    }
   ],
   "source": [
    "even_check(21)"
   ]
  },
  {
   "cell_type": "code",
   "execution_count": 10,
   "id": "b69cbd8a-61d9-4fce-934d-f7ab01f71645",
   "metadata": {},
   "outputs": [],
   "source": [
    "def even_check(number):\n",
    "    return number % 2 == 0"
   ]
  },
  {
   "cell_type": "code",
   "execution_count": 11,
   "id": "c78449fc-61d3-40c5-9354-7c52e2dbd700",
   "metadata": {},
   "outputs": [
    {
     "data": {
      "text/plain": [
       "False"
      ]
     },
     "execution_count": 11,
     "metadata": {},
     "output_type": "execute_result"
    }
   ],
   "source": [
    "even_check(19)"
   ]
  },
  {
   "cell_type": "code",
   "execution_count": 12,
   "id": "62c3f6a8-a742-493c-8b60-9438b4deb2a2",
   "metadata": {},
   "outputs": [],
   "source": [
    "# RETURN TRUE IF ANY NUMBER IS EVEN INSIDE A LIST"
   ]
  },
  {
   "cell_type": "code",
   "execution_count": 14,
   "id": "b9e735a4-38f3-40fd-b05c-27d39d3ef461",
   "metadata": {},
   "outputs": [],
   "source": [
    "def check_even_list(num_list):\n",
    "    \n",
    "    for number in num_list:\n",
    "        if number % 2 == 0:\n",
    "            return True\n",
    "        else:\n",
    "            pass"
   ]
  },
  {
   "cell_type": "code",
   "execution_count": 15,
   "id": "43064fde-4d01-44d1-8b86-74584f766116",
   "metadata": {},
   "outputs": [],
   "source": [
    "check_even_list([1,3,5])"
   ]
  },
  {
   "cell_type": "code",
   "execution_count": 16,
   "id": "48d3e6df-5bff-4580-a9fe-20c611584b2c",
   "metadata": {},
   "outputs": [
    {
     "data": {
      "text/plain": [
       "True"
      ]
     },
     "execution_count": 16,
     "metadata": {},
     "output_type": "execute_result"
    }
   ],
   "source": [
    "check_even_list([2,4,5])"
   ]
  },
  {
   "cell_type": "code",
   "execution_count": 17,
   "id": "593ecbf9-4e18-4b1f-b581-c7d853138b84",
   "metadata": {},
   "outputs": [
    {
     "data": {
      "text/plain": [
       "True"
      ]
     },
     "execution_count": 17,
     "metadata": {},
     "output_type": "execute_result"
    }
   ],
   "source": [
    "check_even_list([2,1,1,1])"
   ]
  },
  {
   "cell_type": "code",
   "execution_count": 18,
   "id": "e2cd3cce-2a45-459a-95bd-ea494e7dbf69",
   "metadata": {},
   "outputs": [
    {
     "data": {
      "text/plain": [
       "True"
      ]
     },
     "execution_count": 18,
     "metadata": {},
     "output_type": "execute_result"
    }
   ],
   "source": [
    "check_even_list([3,4,5,6,7,7,5,3,5,6,7])"
   ]
  },
  {
   "cell_type": "code",
   "execution_count": 19,
   "id": "2fbd5f60-3ae7-4cfa-aa1d-4193fb4d79bd",
   "metadata": {},
   "outputs": [],
   "source": [
    "def check_even_list(num_list):\n",
    "    \n",
    "    for number in num_list:\n",
    "        if number % 2 == 0:\n",
    "            return True\n",
    "        else:\n",
    "            return False # WRONG!!!"
   ]
  },
  {
   "cell_type": "code",
   "execution_count": 20,
   "id": "ff8d2b75-b0c0-479a-ab16-85c3fd7de71a",
   "metadata": {},
   "outputs": [
    {
     "data": {
      "text/plain": [
       "False"
      ]
     },
     "execution_count": 20,
     "metadata": {},
     "output_type": "execute_result"
    }
   ],
   "source": [
    "check_even_list([3,4,5,6,7,5,5])"
   ]
  },
  {
   "cell_type": "code",
   "execution_count": 21,
   "id": "9ed7ca31-ce65-4a3b-8bbc-2b472442f34c",
   "metadata": {},
   "outputs": [
    {
     "data": {
      "text/plain": [
       "True"
      ]
     },
     "execution_count": 21,
     "metadata": {},
     "output_type": "execute_result"
    }
   ],
   "source": [
    "check_even_list([6,5,7,5,4,3])"
   ]
  },
  {
   "cell_type": "code",
   "execution_count": 22,
   "id": "45d7395b-4c91-438a-80b7-86ff387e7a3f",
   "metadata": {},
   "outputs": [],
   "source": [
    "def check_even_list(num_list):\n",
    "    \n",
    "    for number in num_list:\n",
    "        if number % 2 == 0:\n",
    "            return True\n",
    "        else:\n",
    "            pass\n",
    "        \n",
    "    return False"
   ]
  },
  {
   "cell_type": "code",
   "execution_count": 23,
   "id": "e6589272-1df8-46eb-9f83-a95ac3ba4634",
   "metadata": {},
   "outputs": [
    {
     "data": {
      "text/plain": [
       "True"
      ]
     },
     "execution_count": 23,
     "metadata": {},
     "output_type": "execute_result"
    }
   ],
   "source": [
    "check_even_list([3,4,5,6,4,3])"
   ]
  },
  {
   "cell_type": "code",
   "execution_count": 24,
   "id": "eacd6934-3bcb-4450-b779-c9dd682b3c0f",
   "metadata": {},
   "outputs": [
    {
     "data": {
      "text/plain": [
       "True"
      ]
     },
     "execution_count": 24,
     "metadata": {},
     "output_type": "execute_result"
    }
   ],
   "source": [
    "check_even_list([2,4,6,7,4])"
   ]
  },
  {
   "cell_type": "code",
   "execution_count": 25,
   "id": "be00ec50-03c9-4c4e-afa6-edbcb2430a2f",
   "metadata": {},
   "outputs": [],
   "source": [
    "def check_even_list(num_list):\n",
    "    # return all even numbers in a list\n",
    "    \n",
    "    # placeholser variables\n",
    "    even_numbers = []\n",
    "    \n",
    "    for number in num_list:\n",
    "        if number % 2 == 0:\n",
    "            even_numbers.append(number)\n",
    "            \n",
    "        else:\n",
    "            pass\n",
    "        \n",
    "    return even_numbers\n"
   ]
  },
  {
   "cell_type": "code",
   "execution_count": 26,
   "id": "1568a789-c74f-410d-a639-e2ccb61cb1a6",
   "metadata": {},
   "outputs": [
    {
     "data": {
      "text/plain": [
       "[2, 4, 6]"
      ]
     },
     "execution_count": 26,
     "metadata": {},
     "output_type": "execute_result"
    }
   ],
   "source": [
    "check_even_list([1,2,3,4,5,6,7])"
   ]
  },
  {
   "cell_type": "code",
   "execution_count": null,
   "id": "31a978bf-86e8-4f7c-824c-a022d8da68a7",
   "metadata": {},
   "outputs": [],
   "source": []
  }
 ],
 "metadata": {
  "kernelspec": {
   "display_name": "Python 3",
   "language": "python",
   "name": "python3"
  },
  "language_info": {
   "codemirror_mode": {
    "name": "ipython",
    "version": 3
   },
   "file_extension": ".py",
   "mimetype": "text/x-python",
   "name": "python",
   "nbconvert_exporter": "python",
   "pygments_lexer": "ipython3",
   "version": "3.8.8"
  }
 },
 "nbformat": 4,
 "nbformat_minor": 5
}
